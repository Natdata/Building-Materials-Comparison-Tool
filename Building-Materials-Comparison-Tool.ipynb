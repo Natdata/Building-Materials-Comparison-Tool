{
  "nbformat": 4,
  "nbformat_minor": 0,
  "metadata": {
    "colab": {
      "provenance": [],
      "authorship_tag": "ABX9TyPZpLxEJ2J2fvlQS0ln+rBf"
    },
    "kernelspec": {
      "name": "python3",
      "display_name": "Python 3"
    },
    "language_info": {
      "name": "python"
    }
  },
  "cells": [
    {
      "cell_type": "markdown",
      "source": [],
      "metadata": {
        "id": "NrgQ3sr2y6oC"
      }
    },
    {
      "cell_type": "markdown",
      "source": [
        "Krok 1: Instalacja i Importowanie Bibliotek"
      ],
      "metadata": {
        "id": "mVFSRXLIy74V"
      }
    },
    {
      "cell_type": "code",
      "source": [
        "# Instalacja potrzebnych bibliotek\n",
        "!pip install gspread pandas openpyxl google-auth google-auth-oauthlib google-auth-httplib2\n",
        "\n",
        "# Importowanie bibliotek\n",
        "import gspread\n",
        "import pandas as pd\n",
        "from google.colab import auth\n",
        "from google.auth import default\n",
        "\n",
        "# Autoryzacja i inicjalizacja klienta\n",
        "auth.authenticate_user()\n",
        "creds, _ = default()\n",
        "gc = gspread.authorize(creds)\n",
        "\n"
      ],
      "metadata": {
        "colab": {
          "base_uri": "https://localhost:8080/"
        },
        "id": "VocEEmXzy-sM",
        "outputId": "aebb31c6-1313-4dc1-c34f-6300bdb22d47"
      },
      "execution_count": null,
      "outputs": [
        {
          "output_type": "stream",
          "name": "stdout",
          "text": [
            "Requirement already satisfied: gspread in /usr/local/lib/python3.10/dist-packages (3.4.2)\n",
            "Requirement already satisfied: pandas in /usr/local/lib/python3.10/dist-packages (1.5.3)\n",
            "Requirement already satisfied: openpyxl in /usr/local/lib/python3.10/dist-packages (3.1.2)\n",
            "Requirement already satisfied: google-auth in /usr/local/lib/python3.10/dist-packages (2.27.0)\n",
            "Requirement already satisfied: google-auth-oauthlib in /usr/local/lib/python3.10/dist-packages (1.2.0)\n",
            "Requirement already satisfied: google-auth-httplib2 in /usr/local/lib/python3.10/dist-packages (0.1.1)\n",
            "Requirement already satisfied: requests>=2.2.1 in /usr/local/lib/python3.10/dist-packages (from gspread) (2.31.0)\n",
            "Requirement already satisfied: python-dateutil>=2.8.1 in /usr/local/lib/python3.10/dist-packages (from pandas) (2.8.2)\n",
            "Requirement already satisfied: pytz>=2020.1 in /usr/local/lib/python3.10/dist-packages (from pandas) (2023.4)\n",
            "Requirement already satisfied: numpy>=1.21.0 in /usr/local/lib/python3.10/dist-packages (from pandas) (1.25.2)\n",
            "Requirement already satisfied: et-xmlfile in /usr/local/lib/python3.10/dist-packages (from openpyxl) (1.1.0)\n",
            "Requirement already satisfied: cachetools<6.0,>=2.0.0 in /usr/local/lib/python3.10/dist-packages (from google-auth) (5.3.2)\n",
            "Requirement already satisfied: pyasn1-modules>=0.2.1 in /usr/local/lib/python3.10/dist-packages (from google-auth) (0.3.0)\n",
            "Requirement already satisfied: rsa<5,>=3.1.4 in /usr/local/lib/python3.10/dist-packages (from google-auth) (4.9)\n",
            "Requirement already satisfied: requests-oauthlib>=0.7.0 in /usr/local/lib/python3.10/dist-packages (from google-auth-oauthlib) (1.3.1)\n",
            "Requirement already satisfied: httplib2>=0.19.0 in /usr/local/lib/python3.10/dist-packages (from google-auth-httplib2) (0.22.0)\n",
            "Requirement already satisfied: pyparsing!=3.0.0,!=3.0.1,!=3.0.2,!=3.0.3,<4,>=2.4.2 in /usr/local/lib/python3.10/dist-packages (from httplib2>=0.19.0->google-auth-httplib2) (3.1.1)\n",
            "Requirement already satisfied: pyasn1<0.6.0,>=0.4.6 in /usr/local/lib/python3.10/dist-packages (from pyasn1-modules>=0.2.1->google-auth) (0.5.1)\n",
            "Requirement already satisfied: six>=1.5 in /usr/local/lib/python3.10/dist-packages (from python-dateutil>=2.8.1->pandas) (1.16.0)\n",
            "Requirement already satisfied: charset-normalizer<4,>=2 in /usr/local/lib/python3.10/dist-packages (from requests>=2.2.1->gspread) (3.3.2)\n",
            "Requirement already satisfied: idna<4,>=2.5 in /usr/local/lib/python3.10/dist-packages (from requests>=2.2.1->gspread) (3.6)\n",
            "Requirement already satisfied: urllib3<3,>=1.21.1 in /usr/local/lib/python3.10/dist-packages (from requests>=2.2.1->gspread) (2.0.7)\n",
            "Requirement already satisfied: certifi>=2017.4.17 in /usr/local/lib/python3.10/dist-packages (from requests>=2.2.1->gspread) (2024.2.2)\n",
            "Requirement already satisfied: oauthlib>=3.0.0 in /usr/local/lib/python3.10/dist-packages (from requests-oauthlib>=0.7.0->google-auth-oauthlib) (3.2.2)\n"
          ]
        }
      ]
    },
    {
      "cell_type": "markdown",
      "source": [
        "Krok 2: Odczytanie Danych z Google Sheets\n"
      ],
      "metadata": {
        "id": "vOtyb51XzB_h"
      }
    },
    {
      "cell_type": "code",
      "source": [
        "# Otwieranie arkusza Google Sheets\n",
        "spreadsheet_url = 'https://docs.google.com/spreadsheets/d/1nJqelCU3lzN1hLqEtxFawqYVfJM7Yvo5lxg1KN1kqi8/edit#gid=1963505034' # Podmień na URL Twojego arkusza\n",
        "workbook = gc.open_by_url(spreadsheet_url)\n",
        "\n",
        "# Odczytywanie danych z arkuszy \"Oferta\" i \"Kosztorys\"\n",
        "sheet_oferta = workbook.worksheet('Oferta')\n",
        "sheet_kosztorys = workbook.worksheet('Kosztorys')\n",
        "\n",
        "# Konwersja danych na DataFrame\n",
        "df_oferta = pd.DataFrame(sheet_oferta.get_all_records())\n",
        "df_kosztorys = pd.DataFrame(sheet_kosztorys.get_all_records())\n",
        "\n",
        "# Wyczyszczenie danych, jeśli jest taka potrzeba\n",
        "# Przykład: df_oferta['Opis'] = df_oferta['Opis'].str.strip()\n"
      ],
      "metadata": {
        "id": "-QWaN3LVzEgy"
      },
      "execution_count": null,
      "outputs": []
    },
    {
      "cell_type": "markdown",
      "source": [
        "Krok 3: Przypisywanie Cen\n"
      ],
      "metadata": {
        "id": "nOlO5T9mzFra"
      }
    },
    {
      "cell_type": "code",
      "source": [
        "def najlepsze_dopasowanie(opis, df_oferta):\n",
        "    max_wspolne = 0\n",
        "    najlepsza_cena = None\n",
        "    opis_slowa = set(opis.split())\n",
        "\n",
        "    for _, wiersz in df_oferta.iterrows():\n",
        "        oferta_slowa = set(wiersz['Material'].split())\n",
        "        wspolne_slowa = len(opis_slowa.intersection(oferta_slowa))\n",
        "\n",
        "        if wspolne_slowa > max_wspolne:\n",
        "            max_wspolne = wspolne_slowa\n",
        "            najlepsza_cena = wiersz['Cena']\n",
        "\n",
        "    return najlepsza_cena\n",
        "\n",
        "# Przypisywanie cen do kosztorysu na podstawie najlepszego dopasowania\n",
        "df_kosztorys['Cena2'] = df_kosztorys['Opis'].apply(lambda opis: najlepsze_dopasowanie(opis, df_oferta))\n",
        "\n"
      ],
      "metadata": {
        "id": "XkuHm2r2zH1k"
      },
      "execution_count": null,
      "outputs": []
    },
    {
      "cell_type": "markdown",
      "source": [
        "Krok 4: Zapis do Nowego Pliku\n"
      ],
      "metadata": {
        "id": "F1jCkO7YzJnj"
      }
    },
    {
      "cell_type": "code",
      "source": [
        "# Zapisanie zmodyfikowanego DataFrame do nowego arkusza Google Sheets lub pliku Excel\n",
        "# Do pliku Excel\n",
        "df_kosztorys.to_excel('wyniki_kosztorys.xlsx', index=False)\n",
        "\n",
        "# Jeśli chcesz zapisywać wyniki bezpośrednio do Google Sheets, potrzebujesz dodatkowej konfiguracji i użycia gspread\n"
      ],
      "metadata": {
        "id": "NABBDTlnzM9c"
      },
      "execution_count": null,
      "outputs": []
    }
  ]
}